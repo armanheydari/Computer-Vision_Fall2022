{
  "cells": [
    {
      "cell_type": "code",
      "execution_count": null,
      "metadata": {
        "id": "eVE9CXTgGLxO"
      },
      "outputs": [],
      "source": [
        "!sudo apt install tesseract-ocr\n",
        "!pip install pytesseract==0.3.9"
      ]
    },
    {
      "cell_type": "code",
      "source": [
        "!sudo apt-get install tesseract-ocr-fas"
      ],
      "metadata": {
        "id": "iqHoYiSH62pz"
      },
      "execution_count": null,
      "outputs": []
    },
    {
      "cell_type": "markdown",
      "source": [
        "# **الف:**"
      ],
      "metadata": {
        "id": "Vk-Bsayi63d_"
      }
    },
    {
      "cell_type": "code",
      "execution_count": 14,
      "metadata": {
        "colab": {
          "base_uri": "https://localhost:8080/"
        },
        "id": "Kg_QnpkS0AE9",
        "outputId": "c2b30c77-596f-46a4-dd64-d0e551927aaf"
      },
      "outputs": [
        {
          "output_type": "stream",
          "name": "stdout",
          "text": [
            "ك‌\n",
            "\n",
            "تبم‌های بر\n",
            "\n",
            "کادر پزشکی وام]\n",
            "\n",
            "فرهنگی «جیاد داز ۱5\n",
            "\n",
            "و آمدادگری برگزار می‌کردیم و ر\n",
            "\n",
            "ان معمولا با گروه پانزده‌بیست نفره ا٩\n",
            "\n",
            "بهباری و امدادگری را تمام کرده بودند. به ه\n",
            "\n",
            "و بعد از اتمام عملیات دوباره\n",
            "\n",
            "دانشگاه می شد یم . : ماشته\n",
            "\n",
            "/\n",
            "شیم\n",
            "مد مت ۱ فا\n",
            "بو 7۶\n",
            "\n",
            "همین روال ادامه داشست تاان\n",
            "ینکه سال ۱۳۶۲ محدد دانشگاه‌ها بازشده\n",
            "\n",
            "سجویان رگنند سر کلاس. هرقدر ار تساط سا محبط ارام دانشگاه سشتر\n",
            "می‌ شد استرمی‌توانسنند به چیه هابب بیایند. با!\n",
            "ین وضعیت معلوم سود لاح\n",
            "هانقلایی آن روزها پیاید؛ حو- گ\n",
            "یه نود .\n",
            "وود در رد\n",
            "\n",
            "رجهاد دانتد\n",
            "\n",
            "تأمسن نباز ماع\n",
            "۱ اول آن رورش\n",
            "ادن موی\n",
            "\n",
            "\"۳\n",
            "ِ اه ,\n",
            "م ۳ ردد ۵ ای\n",
            "\n",
            " \n",
            "\f\n"
          ]
        }
      ],
      "source": [
        "# Import required packages\n",
        "import cv2\n",
        "import pytesseract\n",
        "from google.colab.patches import cv2_imshow\n",
        "from PIL import Image\n",
        "\n",
        "##################### your code ################################\n",
        "img = cv2.imread(\"royan.jpg\")\n",
        "gray = cv2.cvtColor(img, cv2.COLOR_BGR2GRAY)\n",
        "\n",
        "tt, thresh = cv2.threshold(gray, 0, 255, cv2.THRESH_BINARY | cv2.THRESH_OTSU)\n",
        "kernel = cv2.getStructuringElement(cv2.MORPH_CROSS,(3,3))\n",
        "dilation = cv2.dilate(thresh, kernel, iterations= 1)\n",
        "\n",
        "################################################################\n",
        "# Finding contours\n",
        "## result = result otso|adaptive algorithm\n",
        "print(pytesseract.image_to_string(dilation , lang='fas'))"
      ]
    },
    {
      "cell_type": "code",
      "source": [
        "thresh = cv2.adaptiveThreshold(gray, 255, cv2.ADAPTIVE_THRESH_GAUSSIAN_C, cv2.THRESH_BINARY, 25, 2)\n",
        "\n",
        "kernel = cv2.getStructuringElement(cv2.MORPH_CROSS,(3,3))\n",
        "dilation = cv2.dilate(thresh, kernel, iterations= 1)\n",
        "\n",
        "extractedInformation = pytesseract.image_to_string(dilation, lang='fas')\n",
        "print(extractedInformation)"
      ],
      "metadata": {
        "colab": {
          "base_uri": "https://localhost:8080/"
        },
        "id": "KcT5GLxDZFU1",
        "outputId": "c0ef671d-4866-4662-8bd2-1c773d575425"
      },
      "execution_count": 15,
      "outputs": [
        {
          "output_type": "stream",
          "name": "stdout",
          "text": [
            "سر\n",
            "۱ #سد عم ۳\n",
            "متا\n",
            "\n",
            "۱ کاظمی| | رخ انیب هم این دو رن ت_ ۱ لها ٩2 1 تا و ب ۰ 2\n",
            "ازم‌هایسان معسول در ایام عملیات ۳ ت انجام مر : 0 تِ_ 0\n",
            "می‌فرشست. و\n",
            "\n",
            "تعداد مجروحان در این اپام بیشتر بنود و 9\n",
            "\n",
            "تیم‌های پزشک ۱ واصدا دی نیازمی‌شد ۰ زمسان جرک\n",
            "\n",
            "کادر پزشکی ‏ وام‌داه و درمان نیاز بود. رای همینا ۰\n",
            "فرهنگی «جهاد دانشگاهی». برای دانشجوها اکلاس‌جا گ\n",
            "دساع ی ی ۱\n",
            "\n",
            "> وآمدادگیری برگزار می‌کردیم و زمان شروع عملیات یاک ور ِ\n",
            "۰ آن متمولا با گروه پانزده‌بیست‌نفره از دافشجوهایی که در 1\n",
            "بهیباری و امدادگری را تمام کرده بودند, به مناط 9 كِ 1\n",
            "و بعد از اتمام عملیات دوباره برمی‌گشتيم ومشنول دی :\n",
            "دانشگاه می‌شديم «دکترعیدالحسید ن شاهوردی. از دوستان وان بان ۱\n",
            "5 کاظمی‌آشتیانی ومدیرعاسل ففلی پژوهشگاه رویان). ۰ كِ_\n",
            "۱ همین روال ادامه داشت تااینکه سال۱۳۶۲ مجدد دانش گا هابازشدوز ‏\n",
            "دانشجویان رفتند سر کلاس . هرقدر ارتباط بامحیط آرام دانشگاه یشتر\n",
            "می‌شد. کمترمی‌توانستند نه جبهه‌ها بیایند. ,یا با این وضعیت تسلومن-\n",
            "۱ پرسردغدغه‌های ناآرام سعید و جوانان ‏ پُرشور و وانقلابی آن روزها پیاید وف\n",
            "که مر بم‌تریسن دغدغه‌شان حضورشبانهروزی در جبهه بود. تب\n",
            "دردانشگاه. نهادی ۳ رتباط دانسجویان امثال سید را باوجود هم دور\n",
            "\" واتفصال‌ها \"با آرما ها دغدغه‌هایشار حفظ می‌کر: رجهاد اکاما\n",
            "ح 4 0 2 0 ,یا های رز :\n",
            "ِ تشلی نپا که ه‌منظور راجاد تا 9 1 ِ ین مابار\n",
            "13 9 برزمین‌ماندة 5 کشسور ورشکل ؟ گرشت. ان ۵ که حنساگ و\n",
            "\n",
            "بچه‌های جهاد خر ِ مسریخ ب به صنایب: ع بزرک و ومیم ر را ۷ پید باکر تكِ_- 1\n",
            "\n",
            " \n",
            "\n",
            "0 بود؛ ت\n",
            "\n",
            " \n",
            "\n",
            "تثِ_ بر :\n",
            "0۳۳ ما۳4 اک\n",
            "\n",
            "ی ی\n",
            "\f\n"
          ]
        }
      ]
    },
    {
      "cell_type": "code",
      "execution_count": 16,
      "metadata": {
        "id": "W3x3Ro2yHOMC",
        "colab": {
          "base_uri": "https://localhost:8080/"
        },
        "outputId": "d6b70314-b48e-4a02-f3c4-9a6247375f7c"
      },
      "outputs": [
        {
          "output_type": "stream",
          "name": "stdout",
          "text": [
            "   \n",
            "     \n",
            "\n",
            "تیم‌های بر\n",
            "\n",
            "کادر پزشکی و ام\n",
            "فرهنگی «جهاد دا:: ؟]\n",
            "و امدادگری برگزار می‌کردیم و ۳\n",
            "\n",
            "آن معمولا با گروه پانزده‌بیست‌ننره۳؟\n",
            "\n",
            "بهباری و امدادگری را تمام کرده بودند. به\n",
            "\n",
            "و بعد از اتمام عملیات ۳ برمی‌گشتيم ۱9\n",
            "دانشگاه می شد یم د:\n",
            "\n",
            "٩ ِ ۹\n",
            "\n",
            "ال و۳\n",
            "\n",
            "ما که ٩ ۵ه قآ\n",
            "\n",
            "همین روال ادامه داشتق نا اینگ ه سال۱۳۶۲ محدد دانشگاه‌ها بازشد؛\n",
            "دانشجویان رفتند سر کلاس. هرفدر ارتباط با محیط ارام دانشگاه یش\n",
            "39 . وی یدای بیایند. با این وضعیت ۳۳\n",
            "\n",
            "نبارن. یرد یی آن روزها بیاید جوی\n",
            "\n",
            "یه بود.\n",
            "اباوجود همه دوک\n",
            "و «جهاد دازشتاهیا\n",
            "وت فا های رو\n",
            "\n",
            "وه آن روز ۳۳\n",
            "\n",
            "| کردند! مو\n",
            "\n",
            "۹ هب\n",
            "\f\n"
          ]
        }
      ],
      "source": [
        "extractedInformation = pytesseract.image_to_string('/content/royan.jpg', lang='fas')\n",
        "print(extractedInformation)"
      ]
    },
    {
      "cell_type": "markdown",
      "source": [
        "# **ب:**"
      ],
      "metadata": {
        "id": "YyPqXjW06-dh"
      }
    },
    {
      "cell_type": "code",
      "execution_count": 17,
      "metadata": {
        "id": "JBGeZj_DTzfs",
        "colab": {
          "base_uri": "https://localhost:8080/"
        },
        "outputId": "96323959-9c87-4deb-ffea-8dd5d8eca41d"
      },
      "outputs": [
        {
          "output_type": "stream",
          "name": "stdout",
          "text": [
            " \n",
            "\n",
            "نام: آرمان\n",
            "\n",
            "نام خانوادگی: حیدری\n",
            "\n",
            "شماره دانشجویی: ۷۰۲۱۲۰۲٩\n",
            "\n",
            "تم کتاب مورد علاقه:نبد با شپاطین\n",
            "\n",
            " \n",
            "\n",
            " \n",
            "\n",
            " \n",
            "\f\n"
          ]
        }
      ],
      "source": [
        "# Import required packages\n",
        "import cv2\n",
        "import pytesseract\n",
        "from google.colab.patches import cv2_imshow\n",
        "from PIL import Image\n",
        "##################### your code ################################\n",
        "img = cv2.imread(\"mypic.png\")\n",
        "gray = cv2.cvtColor(img, cv2.COLOR_BGR2GRAY)\n",
        "thresh = cv2.adaptiveThreshold(gray, 255, cv2.ADAPTIVE_THRESH_GAUSSIAN_C, cv2.THRESH_BINARY, 25, 2)\n",
        "kernel = cv2.getStructuringElement(cv2.MORPH_RECT, (3, 3))\n",
        "dilation = cv2.dilate(thresh.copy(), kernel, iterations= 1)\n",
        "\n",
        "\n",
        "################################################################\n",
        "# Finding contours\n",
        "im2 = img.copy()\n",
        "contours, hierarchy = cv2.findContours(dilation, cv2.RETR_EXTERNAL,cv2.CHAIN_APPROX_NONE)\n",
        "\n",
        "for cnt in contours:\n",
        "  x, y, w, h = cv2.boundingRect(cnt)\n",
        "\t# Drawing a rectangle on copied image\n",
        "  rect = cv2.rectangle(im2, (x, y), (x + w, y + h), (0, 255, 0), 2)\n",
        "\t# Cropping the text block for giving input to OCR\n",
        "  cropped = im2[y:y + h, x:x + w]\n",
        "  print(pytesseract.image_to_string(cropped, lang='fas'))\n"
      ]
    },
    {
      "cell_type": "code",
      "execution_count": 18,
      "metadata": {
        "id": "VOilxLYHVHwY",
        "colab": {
          "base_uri": "https://localhost:8080/"
        },
        "outputId": "80032b95-9473-4167-90a4-874b18f9999e"
      },
      "outputs": [
        {
          "output_type": "stream",
          "name": "stdout",
          "text": [
            "نام: آرمان\n",
            "\n",
            "نام خانوادگی: حیدری\n",
            "\n",
            "شماره دانشجویی: ۷۰۲۱۲۰۲٩\n",
            "\n",
            "تم کتاب مورد علاقه:نبد با شپاطین\n",
            "\f\n"
          ]
        }
      ],
      "source": [
        "extractedInformation = pytesseract.image_to_string('mypic.png', lang='fas')\n",
        "print(extractedInformation)"
      ]
    }
  ],
  "metadata": {
    "colab": {
      "provenance": []
    },
    "gpuClass": "standard",
    "kernelspec": {
      "display_name": "Python 3",
      "name": "python3"
    },
    "language_info": {
      "name": "python"
    }
  },
  "nbformat": 4,
  "nbformat_minor": 0
}