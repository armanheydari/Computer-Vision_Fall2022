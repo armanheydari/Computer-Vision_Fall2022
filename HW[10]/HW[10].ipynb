{
  "nbformat": 4,
  "nbformat_minor": 0,
  "metadata": {
    "colab": {
      "provenance": []
    },
    "kernelspec": {
      "name": "python3",
      "display_name": "Python 3"
    },
    "language_info": {
      "name": "python"
    }
  },
  "cells": [
    {
      "cell_type": "markdown",
      "source": [
        "#library"
      ],
      "metadata": {
        "id": "g8yi1QRsHfXG"
      }
    },
    {
      "cell_type": "code",
      "source": [
        "import os\n",
        "import glob\n",
        "import random\n",
        "import tensorflow\n",
        "import numpy as np\n",
        "from sklearn import svm\n",
        "from keras import layers\n",
        "from keras import models\n",
        "from skimage import feature\n",
        "from tensorflow import keras\n",
        "import matplotlib.pyplot as plt\n",
        "from tensorflow.python import image\n",
        "from keras.utils import to_categorical\n",
        "# from keras_visualizer import visualizer \n",
        "from keras.layers.core.dense import Dense\n",
        "from sklearn.metrics import accuracy_score\n",
        "from keras.utils.vis_utils import plot_model\n",
        "from tensorflow.python.ops.math_ops import add\n",
        "from keras.engine.sequential import Sequential\n",
        "from sklearn.preprocessing import LabelEncoder\n",
        "from keras.layers.serialization import activation\n",
        "from tensorflow.python.ops.math_ops import Sigmoid\n",
        "from sklearn.model_selection import train_test_split\n",
        "from keras.layers.convolutional.base_separable_conv import activations\n",
        "import cv2\n",
        "from skimage.feature import local_binary_pattern"
      ],
      "metadata": {
        "id": "9BEn3LaRNO2A"
      },
      "execution_count": 43,
      "outputs": []
    },
    {
      "cell_type": "markdown",
      "source": [
        "#Part1.compatness"
      ],
      "metadata": {
        "id": "BNex_EaD8nbF"
      }
    },
    {
      "cell_type": "code",
      "execution_count": 44,
      "metadata": {
        "id": "EN17ostNnHI_"
      },
      "outputs": [],
      "source": [
        "def compatness(image):\n",
        "  image = cv2.cvtColor(image, cv2.COLOR_BGR2GRAY)\n",
        "  binary_image = cv2.adaptiveThreshold(image, 255, cv2.ADAPTIVE_THRESH_MEAN_C, cv2.THRESH_BINARY, 19, 13)\n",
        "  contours, hierarchy= cv2.findContours(binary_image, cv2.RETR_EXTERNAL, cv2.CHAIN_APPROX_NONE)\n",
        "  contour_max = sorted(contours, key=cv2.contourArea)[-1]\n",
        "  compactness_score = (4 * np.pi * cv2.contourArea(contour_max)) / (cv2.arcLength(contour_max, True) ** 2)\n",
        "  return np.array(compactness_score)\n"
      ]
    },
    {
      "cell_type": "markdown",
      "source": [
        "#Part2.eccenticity"
      ],
      "metadata": {
        "id": "yfuazVl48o_I"
      }
    },
    {
      "cell_type": "code",
      "source": [
        "def eccenticity(image):\n",
        "  image = cv2.cvtColor(image, cv2.COLOR_BGR2GRAY)\n",
        "  binary_image = cv2.adaptiveThreshold(image, 255, cv2.ADAPTIVE_THRESH_MEAN_C, cv2.THRESH_BINARY, 19, 13)\n",
        "  contours, hierarchy= cv2.findContours(binary_image, cv2.RETR_EXTERNAL, cv2.CHAIN_APPROX_NONE)\n",
        "  contour_max = sorted(contours, key=cv2.contourArea)[-1]\n",
        "  (x, y), (min, max), a = cv2.fitEllipse(contour_max)\n",
        "  eccentricity_score = (1 - ((min / max) ** 2))**0.5\n",
        "  return np.array(eccentricity_score)"
      ],
      "metadata": {
        "id": "7MMcGZH0nPXo"
      },
      "execution_count": 45,
      "outputs": []
    },
    {
      "cell_type": "markdown",
      "source": [
        "#Part3.solidity"
      ],
      "metadata": {
        "id": "-iYszMlR8rTp"
      }
    },
    {
      "cell_type": "code",
      "source": [
        "def solidity(image):\n",
        "  image = cv2.cvtColor(image, cv2.COLOR_BGR2GRAY)\n",
        "  binary_image = cv2.adaptiveThreshold(image, 255, cv2.ADAPTIVE_THRESH_MEAN_C, cv2.THRESH_BINARY, 19, 13)\n",
        "  contours, hierarchy= cv2.findContours(binary_image, cv2.RETR_EXTERNAL, cv2.CHAIN_APPROX_NONE)\n",
        "  contour_max = sorted(contours, key=cv2.contourArea)[-1]\n",
        "  solidity_score = float(cv2.contourArea(contour_max))/cv2.contourArea(cv2.convexHull(contour_max))\n",
        "  return  np.array(solidity_score)"
      ],
      "metadata": {
        "id": "4Ai0soihnPVm"
      },
      "execution_count": 46,
      "outputs": []
    },
    {
      "cell_type": "markdown",
      "source": [
        "#Part4.LBP"
      ],
      "metadata": {
        "id": "ND4198GF8ybo"
      }
    },
    {
      "cell_type": "code",
      "source": [
        "def histogram_of_LBP(image, numPoints, radius, eps=1e-7):\n",
        "\timage = cv2.cvtColor(image, cv2.COLOR_BGR2GRAY)\n",
        "\tlbp = local_binary_pattern(image, numPoints, radius, method='uniform')\n",
        "\tn_bins = int(lbp.max() + 1)\n",
        "\thist_values = np.histogram(lbp, density=True, bins=n_bins, range=(0, n_bins))[0]\n",
        "\treturn hist_values"
      ],
      "metadata": {
        "id": "Smlqs2-_nPMh"
      },
      "execution_count": 47,
      "outputs": []
    },
    {
      "cell_type": "markdown",
      "source": [
        "#validate function"
      ],
      "metadata": {
        "id": "Zsm9GZtLwJ0y"
      }
    },
    {
      "cell_type": "code",
      "source": [
        "def validating_func(image_ship_path, image_airplane_path):\n",
        "  ship_img = cv2.imread(image_ship_path)\n",
        "  airplane_img = cv2.imread(image_airplane_path)\n",
        "  eccenticity_ship, eccenticity_airplane = eccenticity(ship_img), eccenticity(airplane_img)\n",
        "  compatness_ship, compatness_airplane = compatness(ship_img), compatness(airplane_img)\n",
        "  solidity_ship, solidity_airplane = solidity(ship_img), solidity(airplane_img)\n",
        "  print(f\"Result for ship image:\\ncompatness is : {compatness_ship}\\t\\teccenticity is : {eccenticity_ship}\\t\\tsolidity is : {solidity_ship}\")\n",
        "  print(f\"Result for airplane image:\\ncompatness is : {compatness_airplane}\\t\\teccenticity is : {eccenticity_airplane}\\t\\tsolidity is : {solidity_airplane}\")\n",
        "  "
      ],
      "metadata": {
        "id": "hJIh5ZQ6wJM-"
      },
      "execution_count": 48,
      "outputs": []
    },
    {
      "cell_type": "markdown",
      "source": [
        "#Part5.prepare dataset(just run this cell and not change)"
      ],
      "metadata": {
        "id": "weS9dHhXgJl1"
      }
    },
    {
      "cell_type": "code",
      "source": [
        "!gdown --id 1O_VkcGlWRR6h00VT8nXIgeI3RyvBpXbE\n",
        "!unzip dataset.zip\n",
        "classes = os.listdir(\"/content/dataset\")\n",
        "images_paths = glob.glob(\"/content/dataset/*/*\")"
      ],
      "metadata": {
        "id": "GM7pmrqmNWkA",
        "colab": {
          "base_uri": "https://localhost:8080/"
        },
        "outputId": "a39c68dd-4d29-469c-e6be-86223f80b652"
      },
      "execution_count": 68,
      "outputs": [
        {
          "output_type": "stream",
          "name": "stdout",
          "text": [
            "/usr/local/lib/python3.8/dist-packages/gdown/cli.py:127: FutureWarning: Option `--id` was deprecated in version 4.3.1 and will be removed in 5.0. You don't need to pass it anymore to use a file ID.\n",
            "  warnings.warn(\n",
            "Downloading...\n",
            "From: https://drive.google.com/uc?id=1O_VkcGlWRR6h00VT8nXIgeI3RyvBpXbE\n",
            "To: /content/dataset.zip\n",
            "100% 18.4M/18.4M [00:00<00:00, 232MB/s]\n",
            "Archive:  dataset.zip\n",
            "replace dataset/airplane/airplane1.jpg? [y]es, [n]o, [A]ll, [N]one, [r]ename: A\n",
            "  inflating: dataset/airplane/airplane1.jpg  \n",
            "  inflating: dataset/airplane/airplane136.jpg  \n",
            "  inflating: dataset/airplane/airplane14.jpg  \n",
            "  inflating: dataset/airplane/airplane141.jpg  \n",
            "  inflating: dataset/airplane/airplane153.jpg  \n",
            "  inflating: dataset/airplane/airplane156.jpg  \n",
            "  inflating: dataset/airplane/airplane157.jpg  \n",
            "  inflating: dataset/airplane/airplane159.jpg  \n",
            "  inflating: dataset/airplane/airplane169.jpg  \n",
            "  inflating: dataset/airplane/airplane170.jpg  \n",
            "  inflating: dataset/airplane/airplane182.jpg  \n",
            "  inflating: dataset/airplane/airplane184.jpg  \n",
            "  inflating: dataset/airplane/airplane185.jpg  \n",
            "  inflating: dataset/airplane/airplane188.jpg  \n",
            "  inflating: dataset/airplane/airplane194.jpg  \n",
            "  inflating: dataset/airplane/airplane195.jpg  \n",
            "  inflating: dataset/airplane/airplane196.jpg  \n",
            "  inflating: dataset/airplane/airplane198.jpg  \n",
            "  inflating: dataset/airplane/airplane199.jpg  \n",
            "  inflating: dataset/airplane/airplane2.jpg  \n",
            "  inflating: dataset/airplane/airplane200.jpg  \n",
            "  inflating: dataset/airplane/airplane208.jpg  \n",
            "  inflating: dataset/airplane/airplane215.jpg  \n",
            "  inflating: dataset/airplane/airplane216.jpg  \n",
            "  inflating: dataset/airplane/airplane218.jpg  \n",
            "  inflating: dataset/airplane/airplane219.jpg  \n",
            "  inflating: dataset/airplane/airplane22.jpg  \n",
            "  inflating: dataset/airplane/airplane221.jpg  \n",
            "  inflating: dataset/airplane/airplane230.jpg  \n",
            "  inflating: dataset/airplane/airplane231.jpg  \n",
            "  inflating: dataset/airplane/airplane233.jpg  \n",
            "  inflating: dataset/airplane/airplane237.jpg  \n",
            "  inflating: dataset/airplane/airplane238.jpg  \n",
            "  inflating: dataset/airplane/airplane239.jpg  \n",
            "  inflating: dataset/airplane/airplane24.jpg  \n",
            "  inflating: dataset/airplane/airplane240.jpg  \n",
            "  inflating: dataset/airplane/airplane247.jpg  \n",
            "  inflating: dataset/airplane/airplane248.jpg  \n",
            "  inflating: dataset/airplane/airplane250.jpg  \n",
            "  inflating: dataset/airplane/airplane255.jpg  \n",
            "  inflating: dataset/airplane/airplane259.jpg  \n",
            "  inflating: dataset/airplane/airplane266.jpg  \n",
            "  inflating: dataset/airplane/airplane27.jpg  \n",
            "  inflating: dataset/airplane/airplane271.jpg  \n",
            "  inflating: dataset/airplane/airplane275.jpg  \n",
            "  inflating: dataset/airplane/airplane276.jpg  \n",
            "  inflating: dataset/airplane/airplane28.jpg  \n",
            "  inflating: dataset/airplane/airplane282.jpg  \n",
            "  inflating: dataset/airplane/airplane29.jpg  \n",
            "  inflating: dataset/airplane/airplane31.jpg  \n",
            "  inflating: dataset/airplane/airplane32.jpg  \n",
            "  inflating: dataset/airplane/airplane322.jpg  \n",
            "  inflating: dataset/airplane/airplane323.jpg  \n",
            "  inflating: dataset/airplane/airplane324.jpg  \n",
            "  inflating: dataset/airplane/airplane325.jpg  \n",
            "  inflating: dataset/airplane/airplane326.jpg  \n",
            "  inflating: dataset/airplane/airplane327.jpg  \n",
            "  inflating: dataset/airplane/airplane333.jpg  \n",
            "  inflating: dataset/airplane/airplane337.jpg  \n",
            "  inflating: dataset/airplane/airplane344.jpg  \n",
            "  inflating: dataset/airplane/airplane352.jpg  \n",
            "  inflating: dataset/airplane/airplane353.jpg  \n",
            "  inflating: dataset/airplane/airplane354.jpg  \n",
            "  inflating: dataset/airplane/airplane355.jpg  \n",
            "  inflating: dataset/airplane/airplane356.jpg  \n",
            "  inflating: dataset/airplane/airplane36.jpg  \n",
            "  inflating: dataset/airplane/airplane361.jpg  \n",
            "  inflating: dataset/airplane/airplane362.jpg  \n",
            "  inflating: dataset/airplane/airplane363.jpg  \n",
            "  inflating: dataset/airplane/airplane364.jpg  \n",
            "  inflating: dataset/airplane/airplane366.jpg  \n",
            "  inflating: dataset/airplane/airplane367.jpg  \n",
            "  inflating: dataset/airplane/airplane374.jpg  \n",
            "  inflating: dataset/airplane/airplane375.jpg  \n",
            "  inflating: dataset/airplane/airplane376.jpg  \n",
            "  inflating: dataset/airplane/airplane384.jpg  \n",
            "  inflating: dataset/airplane/airplane385.jpg  \n",
            "  inflating: dataset/airplane/airplane386.jpg  \n",
            "  inflating: dataset/airplane/airplane387.jpg  \n",
            "  inflating: dataset/airplane/airplane388.jpg  \n",
            "  inflating: dataset/airplane/airplane389.jpg  \n",
            "  inflating: dataset/airplane/airplane396.jpg  \n",
            "  inflating: dataset/airplane/airplane397.jpg  \n",
            "  inflating: dataset/airplane/airplane398.jpg  \n",
            "  inflating: dataset/airplane/airplane403.jpg  \n",
            "  inflating: dataset/airplane/airplane404.jpg  \n",
            "  inflating: dataset/airplane/airplane405.jpg  \n",
            "  inflating: dataset/airplane/airplane406.jpg  \n",
            "  inflating: dataset/airplane/airplane407.jpg  \n",
            "  inflating: dataset/airplane/airplane408.jpg  \n",
            "  inflating: dataset/airplane/airplane415.jpg  \n",
            "  inflating: dataset/airplane/airplane416.jpg  \n",
            "  inflating: dataset/airplane/airplane417.jpg  \n",
            "  inflating: dataset/airplane/airplane421.jpg  \n",
            "  inflating: dataset/airplane/airplane426.jpg  \n",
            "  inflating: dataset/airplane/airplane427.jpg  \n",
            "  inflating: dataset/airplane/airplane43.jpg  \n",
            "  inflating: dataset/airplane/airplane431.jpg  \n",
            "  inflating: dataset/airplane/airplane432.jpg  \n",
            "  inflating: dataset/airplane/airplane440.jpg  \n",
            "  inflating: dataset/airplane/airplane441.jpg  \n",
            "  inflating: dataset/airplane/airplane442.jpg  \n",
            "  inflating: dataset/airplane/airplane443.jpg  \n",
            "  inflating: dataset/airplane/airplane448.jpg  \n",
            "  inflating: dataset/airplane/airplane449.jpg  \n",
            "  inflating: dataset/airplane/airplane45.jpg  \n",
            "  inflating: dataset/airplane/airplane451.jpg  \n",
            "  inflating: dataset/airplane/airplane452.jpg  \n",
            "  inflating: dataset/airplane/airplane453.jpg  \n",
            "  inflating: dataset/airplane/airplane464.jpg  \n",
            "  inflating: dataset/airplane/airplane474.jpg  \n",
            "  inflating: dataset/airplane/airplane475.jpg  \n",
            "  inflating: dataset/airplane/airplane477.jpg  \n",
            "  inflating: dataset/airplane/airplane481.jpg  \n",
            "  inflating: dataset/airplane/airplane482.jpg  \n",
            "  inflating: dataset/airplane/airplane483.jpg  \n",
            "  inflating: dataset/airplane/airplane485.jpg  \n",
            "  inflating: dataset/airplane/airplane486.jpg  \n",
            "  inflating: dataset/airplane/airplane487.jpg  \n",
            "  inflating: dataset/airplane/airplane488.jpg  \n",
            "  inflating: dataset/airplane/airplane49.jpg  \n",
            "  inflating: dataset/airplane/airplane51.jpg  \n",
            "  inflating: dataset/airplane/airplane527.jpg  \n",
            "  inflating: dataset/airplane/airplane528.jpg  \n",
            "  inflating: dataset/airplane/airplane531.jpg  \n",
            "  inflating: dataset/airplane/airplane532.jpg  \n",
            "  inflating: dataset/airplane/airplane533.jpg  \n",
            "  inflating: dataset/airplane/airplane552.jpg  \n",
            "  inflating: dataset/airplane/airplane557.jpg  \n",
            "  inflating: dataset/airplane/airplane564.jpg  \n",
            "  inflating: dataset/airplane/airplane565.jpg  \n",
            "  inflating: dataset/airplane/airplane566.jpg  \n",
            "  inflating: dataset/airplane/airplane569.jpg  \n",
            "  inflating: dataset/airplane/airplane570.jpg  \n",
            "  inflating: dataset/airplane/airplane582.jpg  \n",
            "  inflating: dataset/airplane/airplane583.jpg  \n",
            "  inflating: dataset/airplane/airplane584.jpg  \n",
            "  inflating: dataset/airplane/airplane587.jpg  \n",
            "  inflating: dataset/airplane/airplane601.jpg  \n",
            "  inflating: dataset/airplane/airplane605.jpg  \n",
            "  inflating: dataset/airplane/airplane616.jpg  \n",
            "  inflating: dataset/airplane/airplane621.jpg  \n",
            "  inflating: dataset/airplane/airplane624.jpg  \n",
            "  inflating: dataset/airplane/airplane626.jpg  \n",
            "  inflating: dataset/airplane/airplane631.jpg  \n",
            "  inflating: dataset/airplane/airplane633.jpg  \n",
            "  inflating: dataset/airplane/airplane641.jpg  \n",
            "  inflating: dataset/airplane/airplane647.jpg  \n",
            "  inflating: dataset/airplane/airplane653.jpg  \n",
            "  inflating: dataset/airplane/airplane654.jpg  \n",
            "  inflating: dataset/airplane/airplane655.jpg  \n",
            "  inflating: dataset/airplane/airplane657.jpg  \n",
            "  inflating: dataset/airplane/airplane658.jpg  \n",
            "  inflating: dataset/airplane/airplane659.jpg  \n",
            "  inflating: dataset/airplane/airplane66.jpg  \n",
            "  inflating: dataset/airplane/airplane660.jpg  \n",
            "  inflating: dataset/airplane/airplane662.jpg  \n",
            "  inflating: dataset/airplane/airplane663.jpg  \n",
            "  inflating: dataset/airplane/airplane666.jpg  \n",
            "  inflating: dataset/airplane/airplane668.jpg  \n",
            "  inflating: dataset/airplane/airplane669.jpg  \n",
            "  inflating: dataset/airplane/airplane670.jpg  \n",
            "  inflating: dataset/airplane/airplane673.jpg  \n",
            "  inflating: dataset/airplane/airplane678.jpg  \n",
            "  inflating: dataset/airplane/airplane679.jpg  \n",
            "  inflating: dataset/airplane/airplane684.jpg  \n",
            "  inflating: dataset/airplane/airplane691.jpg  \n",
            "  inflating: dataset/airplane/airplane697.jpg  \n",
            "  inflating: dataset/airplane/airplane698.jpg  \n",
            "  inflating: dataset/airplane/airplane699.jpg  \n",
            "  inflating: dataset/airplane/airplane700.jpg  \n",
            "  inflating: dataset/airplane/airplane708.jpg  \n",
            "  inflating: dataset/airplane/airplane709.jpg  \n",
            "  inflating: dataset/airplane/airplane71.jpg  \n",
            "  inflating: dataset/airplane/airplane715.jpg  \n",
            "  inflating: dataset/airplane/airplane717.jpg  \n",
            "  inflating: dataset/airplane/airplane72.jpg  \n",
            "  inflating: dataset/airplane/airplane722.jpg  \n",
            "  inflating: dataset/airplane/airplane725.jpg  \n",
            "  inflating: dataset/airplane/airplane73.jpg  \n",
            "  inflating: dataset/airplane/airplane734.jpg  \n",
            "  inflating: dataset/airplane/airplane735.jpg  \n",
            "  inflating: dataset/airplane/airplane749.jpg  \n",
            "  inflating: dataset/airplane/airplane750.jpg  \n",
            "  inflating: dataset/airplane/airplane751.jpg  \n",
            "  inflating: dataset/airplane/airplane768.jpg  \n",
            "  inflating: dataset/airplane/airplane771.jpg  \n",
            "  inflating: dataset/airplane/airplane773.jpg  \n",
            "  inflating: dataset/airplane/airplane775.jpg  \n",
            "  inflating: dataset/airplane/airplane776.jpg  \n",
            "  inflating: dataset/airplane/airplane79.jpg  \n",
            "  inflating: dataset/airplane/airplane799.jpg  \n",
            "  inflating: dataset/airplane/airplane800.jpg  \n",
            "  inflating: dataset/airplane/airplane802.jpg  \n",
            "  inflating: dataset/airplane/airplane803.jpg  \n",
            "  inflating: dataset/airplane/airplane81.jpg  \n",
            "  inflating: dataset/airplane/airplane811.jpg  \n",
            "  inflating: dataset/airplane/airplane812.jpg  \n",
            "  inflating: dataset/airplane/airplane813.jpg  \n",
            "  inflating: dataset/airplane/airplane823.jpg  \n",
            "  inflating: dataset/airplane/airplane824.jpg  \n",
            "  inflating: dataset/airplane/airplane825.jpg  \n",
            "  inflating: dataset/airplane/airplane849.jpg  \n",
            "  inflating: dataset/airplane/airplane852.jpg  \n",
            "  inflating: dataset/airplane/airplane862.jpg  \n",
            "  inflating: dataset/airplane/airplane864.jpg  \n",
            "  inflating: dataset/airplane/airplane865.jpg  \n",
            "  inflating: dataset/airplane/airplane877.jpg  \n",
            "  inflating: dataset/airplane/airplane879.jpg  \n",
            "  inflating: dataset/airplane/airplane885.jpg  \n",
            "  inflating: dataset/airplane/airplane889.jpg  \n",
            "  inflating: dataset/airplane/airplane890.jpg  \n",
            "  inflating: dataset/airplane/airplane897.jpg  \n",
            "  inflating: dataset/airplane/airplane906.jpg  \n",
            "  inflating: dataset/airplane/airplane91.jpg  \n",
            "  inflating: dataset/airplane/airplane92.jpg  \n",
            "  inflating: dataset/airplane/airplane942.jpg  \n",
            "  inflating: dataset/airplane/airplane944.jpg  \n",
            "  inflating: dataset/airplane/airplane953.jpg  \n",
            "  inflating: dataset/airplane/airplane954.jpg  \n",
            "  inflating: dataset/airplane/airplane966.jpg  \n",
            "  inflating: dataset/airplane/airplane971.jpg  \n",
            "  inflating: dataset/airplane/airplane972.jpg  \n",
            "  inflating: dataset/airplane/airplane973.jpg  \n",
            "  inflating: dataset/airplane/airplane974.jpg  \n",
            "  inflating: dataset/airplane/airplane976.jpg  \n",
            "  inflating: dataset/airplane/airplane982.jpg  \n",
            "  inflating: dataset/airplane/airplane993.jpg  \n",
            "  inflating: dataset/airplane/airplane994.jpg  \n",
            "  inflating: dataset/ship/1073645.jpg  \n",
            "  inflating: dataset/ship/1114371.jpg  \n",
            "  inflating: dataset/ship/1114372.jpg  \n",
            "  inflating: dataset/ship/1229806.jpg  \n",
            "  inflating: dataset/ship/1244690.jpg  \n",
            "  inflating: dataset/ship/1250085.jpg  \n",
            "  inflating: dataset/ship/1263459.jpg  \n",
            "  inflating: dataset/ship/1296498.jpg  \n",
            "  inflating: dataset/ship/1318952.jpg  \n",
            "  inflating: dataset/ship/1334846.jpg  \n",
            "  inflating: dataset/ship/1334849.jpg  \n",
            "  inflating: dataset/ship/1334851.jpg  \n",
            "  inflating: dataset/ship/1345054.jpg  \n",
            "  inflating: dataset/ship/1346587.jpg  \n",
            "  inflating: dataset/ship/1412936.jpg  \n",
            "  inflating: dataset/ship/1413805.jpg  \n",
            "  inflating: dataset/ship/1473060.jpg  \n",
            "  inflating: dataset/ship/1569516.jpg  \n",
            "  inflating: dataset/ship/1569560.jpg  \n",
            "  inflating: dataset/ship/1603686.jpg  \n",
            "  inflating: dataset/ship/1603687.jpg  \n",
            "  inflating: dataset/ship/1603850.jpg  \n",
            "  inflating: dataset/ship/1603853.jpg  \n",
            "  inflating: dataset/ship/1728153.jpg  \n",
            "  inflating: dataset/ship/1737175.jpg  \n",
            "  inflating: dataset/ship/1786288.jpg  \n",
            "  inflating: dataset/ship/1787418.jpg  \n",
            "  inflating: dataset/ship/1788614.jpg  \n",
            "  inflating: dataset/ship/1831322.jpg  \n",
            "  inflating: dataset/ship/1833418.jpg  \n",
            "  inflating: dataset/ship/1843993.jpg  \n",
            "  inflating: dataset/ship/1904939.jpg  \n",
            "  inflating: dataset/ship/1937807.jpg  \n",
            "  inflating: dataset/ship/1943931.jpg  \n",
            "  inflating: dataset/ship/1958103.jpg  \n",
            "  inflating: dataset/ship/1958284.jpg  \n",
            "  inflating: dataset/ship/1989612.jpg  \n",
            "  inflating: dataset/ship/1991234.jpg  \n",
            "  inflating: dataset/ship/2010303.jpg  \n",
            "  inflating: dataset/ship/2010304.jpg  \n",
            "  inflating: dataset/ship/2012364.jpg  \n",
            "  inflating: dataset/ship/2012365.jpg  \n",
            "  inflating: dataset/ship/2012366.jpg  \n",
            "  inflating: dataset/ship/2125171.jpg  \n",
            "  inflating: dataset/ship/2127031.jpg  \n",
            "  inflating: dataset/ship/2136335.jpg  \n",
            "  inflating: dataset/ship/2160804.jpg  \n",
            "  inflating: dataset/ship/2183166.jpg  \n",
            "  inflating: dataset/ship/2184605.jpg  \n",
            "  inflating: dataset/ship/2192267.jpg  \n",
            "  inflating: dataset/ship/2192272.jpg  \n",
            "  inflating: dataset/ship/2196336.jpg  \n",
            "  inflating: dataset/ship/2199205.jpg  \n",
            "  inflating: dataset/ship/2208821.jpg  \n",
            "  inflating: dataset/ship/2217944.jpg  \n",
            "  inflating: dataset/ship/2222503.jpg  \n",
            "  inflating: dataset/ship/2228236.jpg  \n",
            "  inflating: dataset/ship/2235705.jpg  \n",
            "  inflating: dataset/ship/2235747.jpg  \n",
            "  inflating: dataset/ship/2235770.jpg  \n",
            "  inflating: dataset/ship/2235771.jpg  \n",
            "  inflating: dataset/ship/2237388.jpg  \n",
            "  inflating: dataset/ship/2239436.jpg  \n",
            "  inflating: dataset/ship/2240083.jpg  \n",
            "  inflating: dataset/ship/2240087.jpg  \n",
            "  inflating: dataset/ship/2246589.jpg  \n",
            "  inflating: dataset/ship/2246769.jpg  \n",
            "  inflating: dataset/ship/2252297.jpg  \n",
            "  inflating: dataset/ship/2252298.jpg  \n",
            "  inflating: dataset/ship/2252499.jpg  \n",
            "  inflating: dataset/ship/2255446.jpg  \n",
            "  inflating: dataset/ship/2255448.jpg  \n",
            "  inflating: dataset/ship/2255990.jpg  \n",
            "  inflating: dataset/ship/2259527.jpg  \n",
            "  inflating: dataset/ship/2259786.jpg  \n",
            "  inflating: dataset/ship/2263658.jpg  \n",
            "  inflating: dataset/ship/2265605.jpg  \n",
            "  inflating: dataset/ship/2266165.jpg  \n",
            "  inflating: dataset/ship/2270066.jpg  \n",
            "  inflating: dataset/ship/2279386.jpg  \n",
            "  inflating: dataset/ship/2307973.jpg  \n",
            "  inflating: dataset/ship/613378.jpg  \n",
            "  inflating: dataset/ship/627875.jpg  \n",
            "  inflating: dataset/ship/676641.jpg  \n",
            "  inflating: dataset/ship/676917.jpg  \n",
            "  inflating: dataset/ship/697552.jpg  \n",
            "  inflating: dataset/ship/809706.jpg  \n",
            "  inflating: dataset/ship/949998.jpg  \n",
            "  inflating: dataset/ship/953465.jpg  \n"
          ]
        }
      ]
    },
    {
      "cell_type": "code",
      "source": [
        "x_data , y_data = [], []\n",
        "for img_path in images_paths:\n",
        "  x_data.append(cv2.resize(cv2.imread(img_path), (224,224)))\n",
        "  if img_path.split(\"/\")[3] == \"ship\":\n",
        "    y_data.append(0)\n",
        "  else:\n",
        "    y_data.append(1)  "
      ],
      "metadata": {
        "id": "VV2LraFIeTzf"
      },
      "execution_count": 69,
      "outputs": []
    },
    {
      "cell_type": "code",
      "source": [
        "x_train, x_test, y_train, y_test = train_test_split(x_data, y_data,test_size = 0.2, shuffle= True)"
      ],
      "metadata": {
        "id": "pPluW3-beTzg"
      },
      "execution_count": 73,
      "outputs": []
    },
    {
      "cell_type": "markdown",
      "source": [
        "#Part6. Exctract features and determine classifier"
      ],
      "metadata": {
        "id": "r2Lu46_O81dO"
      }
    },
    {
      "cell_type": "code",
      "source": [
        "def get_featureMatrix(data):\n",
        "  feature_matrix = [np.concatenate((compatness(d), eccenticity(d), solidity(d), histogram_of_LBP(d, 8, 2)), axis=None) for d in data]\n",
        "  return feature_matrix"
      ],
      "metadata": {
        "id": "yACJSHhDgel7"
      },
      "execution_count": 74,
      "outputs": []
    },
    {
      "cell_type": "code",
      "source": [
        "# model 1\n",
        "feature_matrix_train = get_featureMatrix(x_train)\n",
        "#determine classifier and train \n",
        "clf = svm.SVC()\n",
        "clf.fit(feature_matrix_train, y_train)"
      ],
      "metadata": {
        "id": "fNovCJaYdDJj",
        "colab": {
          "base_uri": "https://localhost:8080/"
        },
        "outputId": "a8bbfbd1-8c4f-45af-cf44-8af4ae2aaf8a"
      },
      "execution_count": 75,
      "outputs": [
        {
          "output_type": "execute_result",
          "data": {
            "text/plain": [
              "SVC()"
            ]
          },
          "metadata": {},
          "execution_count": 75
        }
      ]
    },
    {
      "cell_type": "markdown",
      "source": [
        "#Part7"
      ],
      "metadata": {
        "id": "bslYazlcBvZH"
      }
    },
    {
      "cell_type": "code",
      "source": [
        "#test on test dataset\n",
        "feature_matrix_test = get_featureMatrix(x_test)\n",
        "accuracy_score(y_test, clf.predict(feature_matrix_test))"
      ],
      "metadata": {
        "id": "Mi7ulg_ogUMa",
        "colab": {
          "base_uri": "https://localhost:8080/"
        },
        "outputId": "883a64a5-635a-4c0f-c49a-e1d1b0c431fa"
      },
      "execution_count": 76,
      "outputs": [
        {
          "output_type": "execute_result",
          "data": {
            "text/plain": [
              "0.75"
            ]
          },
          "metadata": {},
          "execution_count": 76
        }
      ]
    },
    {
      "cell_type": "markdown",
      "source": [
        "#Part8"
      ],
      "metadata": {
        "id": "PEGR2WSLB3vc"
      }
    },
    {
      "cell_type": "code",
      "source": [
        "#test visualize\n",
        "index = random.randint(0, len(x_test)-1)\n",
        "prediction = clf.predict(get_featureMatrix(np.array([x_test[index]])))\n",
        "plt.title(f\"Ground truth lable :{y_test[index]} and predict class : {prediction}\")\n",
        "plt.imshow(x_test[index])\n",
        "plt.show()"
      ],
      "metadata": {
        "colab": {
          "base_uri": "https://localhost:8080/",
          "height": 281
        },
        "id": "AJpVJN4o5QKM",
        "outputId": "41b2c44b-eb8f-462b-80cd-60089070853f"
      },
      "execution_count": 55,
      "outputs": [
        {
          "output_type": "display_data",
          "data": {
            "text/plain": [
              "<Figure size 432x288 with 1 Axes>"
            ],
            "image/png": "[encoded data removed]"
          },
          "metadata": {
            "needs_background": "light"
          }
        }
      ]
    }
  ]
}